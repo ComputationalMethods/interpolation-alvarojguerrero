{
 "cells": [
  {
   "cell_type": "markdown",
   "metadata": {},
   "source": [
    "# Interpolation Methods"
   ]
  },
  {
   "cell_type": "markdown",
   "metadata": {},
   "source": [
    "Due to the discrete (and sometimes sparse) nature of experiments and observations, data taking procedures will always produce discrete data as well. Even, as we have seen before, information only can be discretely presented into a computer due to the binary representation. However, when we are dealing with physical models, continuous and smooth properties are of course preferred. Interpolation techniques allow then to recover a continuous field (intermediate values) from sparse datasets. Throughout this section we shall cover some of these interpolation methods."
   ]
  },
  {
   "cell_type": "markdown",
   "metadata": {},
   "source": [
    "- - -\n",
    "- [Linear Interpolation](#Linear-Interpolation)\n",
    "    - [Steps](#Steps-LI)\n",
    "    - [Example 1](#Example-1)\n",
    "- [Lagrange Polynomial](#Lagrange-Polynomial)\n",
    "    - [Derivation](#Derivation)\n",
    "    - [Steps](#Steps-LP)\n",
    "    - [Activity](#Activity-LP)\n",
    "- [Divided Differences](#Divided-Differences)\n",
    "    - [Example 2](#Example-2)\n",
    "- [Hermite Interpolation](#Hermite-Interpolation)\n",
    "    - [Derivation in terms of divided differences](#Derivation-in-terms-of-divided-differences)\n",
    "    - [Example 3](#Example-3)\n",
    "- - -"
   ]
  },
  {
   "cell_type": "code",
   "execution_count": 2,
   "metadata": {},
   "outputs": [
    {
     "name": "stdout",
     "output_type": "stream",
     "text": [
      "Populating the interactive namespace from numpy and matplotlib\n"
     ]
    }
   ],
   "source": [
    "%pylab inline"
   ]
  },
  {
   "cell_type": "code",
   "execution_count": 3,
   "metadata": {
    "collapsed": true
   },
   "outputs": [],
   "source": [
    "from IPython.display import display, Markdown, Latex, Image \n",
    "import pandas as pd"
   ]
  },
  {
   "cell_type": "code",
   "execution_count": 4,
   "metadata": {
    "collapsed": true
   },
   "outputs": [],
   "source": [
    "from scipy import interpolate"
   ]
  },
  {
   "cell_type": "code",
   "execution_count": 5,
   "metadata": {},
   "outputs": [
    {
     "name": "stdout",
     "output_type": "stream",
     "text": [
      "Populating the interactive namespace from numpy and matplotlib\n"
     ]
    }
   ],
   "source": [
    "import numpy as np\n",
    "%pylab inline\n",
    "import matplotlib.pyplot as plt\n",
    "# JSAnimation import available at https://github.com/jakevdp/JSAnimation\n",
    "from JSAnimation import IPython_display\n",
    "from matplotlib import animation\n",
    "from IPython.core.display import Image "
   ]
  },
  {
   "cell_type": "markdown",
   "metadata": {},
   "source": [
    "- - -"
   ]
  },
  {
   "cell_type": "markdown",
   "metadata": {},
   "source": [
    "# NumPy Polynomials"
   ]
  },
  {
   "cell_type": "markdown",
   "metadata": {},
   "source": [
    "In Numpy there is an implementation of Polynomials. The object is initialized giving the polynomial coefficients: "
   ]
  },
  {
   "cell_type": "code",
   "execution_count": 25,
   "metadata": {},
   "outputs": [
    {
     "name": "stdout",
     "output_type": "stream",
     "text": [
      "   2\n",
      "1 x + 2 x - 3\n"
     ]
    }
   ],
   "source": [
    "p = np.poly1d([1, 2, -3])\n",
    "print(p)"
   ]
  },
  {
   "cell_type": "markdown",
   "metadata": {},
   "source": [
    "By default is assigned the attribute `variable`, which can be assigned at initialization "
   ]
  },
  {
   "cell_type": "code",
   "execution_count": 26,
   "metadata": {},
   "outputs": [
    {
     "name": "stdout",
     "output_type": "stream",
     "text": [
      "   2\n",
      "1 t + 2 t - 3\n"
     ]
    }
   ],
   "source": [
    "q = np.poly1d([1, 2, -3],variable='t')\n",
    "print(q)"
   ]
  },
  {
   "cell_type": "markdown",
   "metadata": {},
   "source": [
    "The object have in particular methods for <br/>\n",
    "__Integration__:"
   ]
  },
  {
   "cell_type": "code",
   "execution_count": 27,
   "metadata": {},
   "outputs": [
    {
     "name": "stdout",
     "output_type": "stream",
     "text": [
      "        3     2\n",
      "0.3333 x + 1 x - 3 x\n"
     ]
    }
   ],
   "source": [
    "p = np.poly1d([1, 2, -3])\n",
    "print( p.integ() )"
   ]
  },
  {
   "cell_type": "markdown",
   "metadata": {},
   "source": [
    "__Derivatives__"
   ]
  },
  {
   "cell_type": "code",
   "execution_count": 28,
   "metadata": {},
   "outputs": [
    {
     "name": "stdout",
     "output_type": "stream",
     "text": [
      " \n",
      "2 x + 2\n"
     ]
    }
   ],
   "source": [
    "print( p.deriv() )"
   ]
  },
  {
   "cell_type": "markdown",
   "metadata": {},
   "source": [
    "__roots__:"
   ]
  },
  {
   "cell_type": "code",
   "execution_count": 29,
   "metadata": {},
   "outputs": [
    {
     "name": "stdout",
     "output_type": "stream",
     "text": [
      "[-3.  1.]\n"
     ]
    },
    {
     "data": {
      "text/markdown": [
       "$p(-3.0)=1.7763568394002505e-15$"
      ],
      "text/plain": [
       "<IPython.core.display.Markdown object>"
      ]
     },
     "metadata": {},
     "output_type": "display_data"
    }
   ],
   "source": [
    "print(p.roots)\n",
    "display(Markdown( '$p({})={}$'.format(round(p.roots[0],1),p((p.roots[0] )  ) ) ) )"
   ]
  },
  {
   "cell_type": "markdown",
   "metadata": {},
   "source": [
    "For further details check the official help:"
   ]
  },
  {
   "cell_type": "code",
   "execution_count": 30,
   "metadata": {
    "collapsed": true
   },
   "outputs": [],
   "source": [
    "np.poly1d?"
   ]
  },
  {
   "cell_type": "markdown",
   "metadata": {},
   "source": [
    "__Activity__: \n",
    "1. Define a polynomial for the movement with uniform acceleration:\n",
    "\\begin{align}\n",
    "x=x_0+v_0 (t-t_0)+\\tfrac{1}{2} a (t-t_0)^2\\,,\n",
    "\\end{align}\n",
    "2. Use the definition to solve the problem of your \"Taller\""
   ]
  },
  {
   "cell_type": "markdown",
   "metadata": {},
   "source": [
    "<font color=red>Solution</font>"
   ]
  },
  {
   "cell_type": "code",
   "execution_count": 31,
   "metadata": {
    "collapsed": true
   },
   "outputs": [],
   "source": [
    "def x(x0,t0,v0,a):\n",
    "    return np.poly1d([0.5*a, v0-a*t0, x0-v0*t0+0.5*a*t0**2],variable=\"t\")\n",
    "\n",
    "x1=x(0,0,0,3)\n",
    "x2=x(0,10,10,7)"
   ]
  },
  {
   "cell_type": "code",
   "execution_count": 32,
   "metadata": {},
   "outputs": [
    {
     "name": "stdout",
     "output_type": "stream",
     "text": [
      "x1(t)=\n",
      "     2\n",
      "1.5 t\n",
      "x2(t)=\n",
      "     2\n",
      "3.5 t - 60 t + 250\n"
     ]
    }
   ],
   "source": [
    "print(\"x1(t)=\")\n",
    "print(x1)\n",
    "print(\"x2(t)=\")\n",
    "print(x2)"
   ]
  },
  {
   "cell_type": "code",
   "execution_count": 33,
   "metadata": {},
   "outputs": [
    {
     "data": {
      "text/plain": [
       "25.0"
      ]
     },
     "execution_count": 33,
     "metadata": {},
     "output_type": "execute_result"
    }
   ],
   "source": [
    "t=np.linspace(0,45,100)\n",
    "(x2-x1).r[0]"
   ]
  },
  {
   "cell_type": "code",
   "execution_count": 100,
   "metadata": {},
   "outputs": [
    {
     "data": {
      "text/plain": [
       "<matplotlib.text.Text at 0x7f61e4db0908>"
      ]
     },
     "execution_count": 100,
     "metadata": {},
     "output_type": "execute_result"
    },
    {
     "data": {
      "image/png": "[encoded data removed]",
      "text/plain": [
       "<matplotlib.figure.Figure at 0x7f61e4e08278>"
      ]
     },
     "metadata": {},
     "output_type": "display_data"
    }
   ],
   "source": [
    "plt.figure(figsize=(9,6))\n",
    "plt.plot(t,x2(t)-x1(t))\n",
    "plt.plot((x2-x1).r[0],0 ,\"m .\", markersize=15)\n",
    "plt.annotate(\"Meeting time:{} s\".format((x2-x1).r[0]),xy=(((x2-x1).r[0]),0), xytext=(((x2-x1).r[0]+1.5),1))\n",
    "plt.grid()\n",
    "plt.title(r\"Meeting time $T_{\\rm end}=$ %g s ; Meeting time $X_{\\rm end}=$ %g m\"%((x2-x1).r[0],x2((x2-x1).r[0])))"
   ]
  },
  {
   "cell_type": "markdown",
   "metadata": {},
   "source": [
    " %load polymua.py"
   ]
  },
  {
   "cell_type": "markdown",
   "metadata": {},
   "source": [
    "# Linear Interpolation"
   ]
  },
  {
   "cell_type": "markdown",
   "metadata": {},
   "source": [
    "When we have a set of discrete points of the form $(x_i, y_i)$ for $1\\leq i \\leq N$, the most natural way to obtain (approximate) any intermediate value is assuming points connected by lines. Let's assume a set of points $(x_i, y_i)$ such that $y_i = f(x_i)$ for an unknown function $f(x)$, if we want to approximate the value $f(x)$ for $x_i\\leq x \\leq x_{i+1}$, we construct an equation of a line passing through $(x_i,y_i)$ and $(x_{i+1},y_{i+1})$.\n",
    "\n",
    "The linear equation is\n",
    "\n",
    "$$y=mx+b$$\n",
    "\n",
    "where\n",
    "\n",
    "$$m=\\frac{y_{i+1}-y_i}{x_{i+1}-x_i} $$\n",
    "\n",
    "and $b$ is obtained by evaluating with either $(x_i,y_i)$ or $(x_{i+1},y_{i+1})$\n",
    "\n",
    "$$y=\\frac{y_{i+1}-y_i}{x_{i+1}-x_i}x+b$$\n",
    "\n",
    "$$b=y_i-\\frac{y_{i+1}-y_i}{x_{i+1}-x_i}x_i$$\n",
    "\n",
    "\n",
    "\\begin{align}\n",
    "%$$  \n",
    "f(x)\\approx y = &\\frac{y_{i+1}-y_i}{x_{i+1}-x_i}(x-x_i) + y_i \\\\\n",
    "=&\\frac{y_{i+1}-y_i}{x_{i+1}-x_i}x+\\left[y_i-\\frac{y_{i+1}-y_i}{x_{i+1}-x_i}x_i\\right] \\\\\n",
    "%$$\n",
    "\\end{align}\n",
    "\n",
    "and this can be applied for any $x$ such that $x_0\\leq x \\leq x_N$ and where it has been assumed an ordered set $\\left\\{x_i\\right\\}_i$."
   ]
  },
  {
   "cell_type": "markdown",
   "metadata": {},
   "source": [
    "## Steps LI"
   ]
  },
  {
   "cell_type": "markdown",
   "metadata": {},
   "source": [
    "Once defined the mathematical basis behind linear interpolation, we proceed to establish the algorithmic steps for an implementation.\n",
    "\n",
    "1. Establish the dataset you want to interpolate, i.e. you must provide a set of the form $(x_i,y_i)$.\n",
    "2. Give the value $x$ where you want to approximate the value $f(x)$.\n",
    "3. Find the interval $[x_i, x_{i+1}]$ in which $x$ is embedded.\n",
    "4. Use the above expression in order to find $y=f(x)$."
   ]
  },
  {
   "cell_type": "markdown",
   "metadata": {},
   "source": [
    "## Example 1"
   ]
  },
  {
   "cell_type": "markdown",
   "metadata": {},
   "source": [
    "Sample the function $f(x) = \\sin(x)$ between $0$ and $2\\pi$ using $N=10$ intervals. Plot both, the interpolation and the original function."
   ]
  },
  {
   "cell_type": "code",
   "execution_count": 35,
   "metadata": {
    "collapsed": true
   },
   "outputs": [],
   "source": [
    "x=np.linspace(0,6,10)"
   ]
  },
  {
   "cell_type": "markdown",
   "metadata": {},
   "source": [
    "Interpolation:"
   ]
  },
  {
   "cell_type": "code",
   "execution_count": 36,
   "metadata": {
    "collapsed": true
   },
   "outputs": [],
   "source": [
    "f=interpolate.interp1d( x,np.sin(x) )"
   ]
  },
  {
   "cell_type": "markdown",
   "metadata": {},
   "source": [
    "the object `f` behaves like a function. For example. We can evaluate both the real and the interpolated function in $x_0=3$"
   ]
  },
  {
   "cell_type": "code",
   "execution_count": 37,
   "metadata": {},
   "outputs": [
    {
     "data": {
      "text/plain": [
       "0.14112000805986721"
      ]
     },
     "execution_count": 37,
     "metadata": {},
     "output_type": "execute_result"
    }
   ],
   "source": [
    "np.sin(3)"
   ]
  },
  {
   "cell_type": "code",
   "execution_count": 38,
   "metadata": {},
   "outputs": [
    {
     "data": {
      "text/plain": [
       "array(0.13335233188016332)"
      ]
     },
     "execution_count": 38,
     "metadata": {},
     "output_type": "execute_result"
    }
   ],
   "source": [
    "f(3)"
   ]
  },
  {
   "cell_type": "code",
   "execution_count": 39,
   "metadata": {},
   "outputs": [
    {
     "data": {
      "text/plain": [
       "[<matplotlib.lines.Line2D at 0x7f61e5c760f0>]"
      ]
     },
     "execution_count": 39,
     "metadata": {},
     "output_type": "execute_result"
    },
    {
     "data": {
      "image/png": "[encoded data removed]",
      "text/plain": [
       "<matplotlib.figure.Figure at 0x7f61e5ca5dd8>"
      ]
     },
     "metadata": {},
     "output_type": "display_data"
    }
   ],
   "source": [
    "plt.figure(figsize=(8,6))\n",
    "plt.plot(x,f(x),\"ro\")\n",
    "plt.plot(x,f(x),\"b-\")\n",
    "plt.plot(2.35,f(2.35), \"y*\", markersize=10)"
   ]
  },
  {
   "cell_type": "code",
   "execution_count": 40,
   "metadata": {},
   "outputs": [
    {
     "data": {
      "text/plain": [
       "(array(0.671984406726), 0.71147335279084434)"
      ]
     },
     "execution_count": 40,
     "metadata": {},
     "output_type": "execute_result"
    }
   ],
   "source": [
    "f(2.35),np.sin(2.35)"
   ]
  },
  {
   "cell_type": "code",
   "execution_count": 41,
   "metadata": {},
   "outputs": [
    {
     "data": {
      "text/plain": [
       "<matplotlib.text.Text at 0x7f61e5c27978>"
      ]
     },
     "execution_count": 41,
     "metadata": {},
     "output_type": "execute_result"
    },
    {
     "data": {
      "image/png": "[encoded data removed]",
      "text/plain": [
       "<matplotlib.figure.Figure at 0x7f61e5cd0710>"
      ]
     },
     "metadata": {},
     "output_type": "display_data"
    }
   ],
   "source": [
    "#Number of intervals for data 0 y 2Pi\n",
    "Ndat = 10\n",
    "Xn = np.linspace( 0, 2*np.pi, Ndat )\n",
    "Yn = np.sin(Xn)\n",
    "\n",
    "#Obtaining linear interpolation\n",
    "Ninter = 100\n",
    "x = np.linspace( 0, 2*np.pi, Ninter )\n",
    "y = interpolate.interp1d( x, np.sin(x) )\n",
    "f = np.sin(x)\n",
    "\n",
    "#Plotting\n",
    "plt.figure( figsize=(12,6) )\n",
    "plt.plot( Xn, y(Xn), color=\"green\", linewidth=2, label=\"linear interpolation\" )\n",
    "plt.plot( x, f, color=\"blue\", linewidth=2, label=\"real function\" )\n",
    "plt.plot( Xn, Yn, \"o\", color=\"red\", label=\"data\" )\n",
    "\n",
    "#Formatting\n",
    "plt.legend()\n",
    "plt.grid()\n",
    "plt.xlabel( \"x\" )\n",
    "plt.xlabel( \"y\" )\n",
    "plt.ylim( (-1.5,1.5) )\n",
    "plt.title( \"Linear interpolation of $\\sin(x)$\" )"
   ]
  },
  {
   "cell_type": "markdown",
   "metadata": {},
   "source": [
    "## <font color='red'>     **Activity** </font>"
   ]
  },
  {
   "cell_type": "markdown",
   "metadata": {},
   "source": [
    "<font color='red'>    \n",
    "    \n",
    "Use the previous code and explore the behaviour of the Linear Interpolation algorithm when varying the number of data used.\n",
    "</font>"
   ]
  },
  {
   "cell_type": "code",
   "execution_count": 152,
   "metadata": {},
   "outputs": [
    {
     "data": {
      "text/plain": [
       "<matplotlib.legend.Legend at 0x7fd657dfb080>"
      ]
     },
     "execution_count": 152,
     "metadata": {},
     "output_type": "execute_result"
    },
    {
     "data": {
      "image/png": "[encoded data removed]",
      "text/plain": [
       "<matplotlib.figure.Figure at 0x7fd657905898>"
      ]
     },
     "metadata": {},
     "output_type": "display_data"
    }
   ],
   "source": [
    "N=100\n",
    "x=np.linspace(0,6,N)\n",
    "f=interpolate.interp1d( x,np.sin(x) )\n",
    "x=np.linspace(0,6,N)\n",
    "X=np.linspace(0,6,100)\n",
    "plt.figure(figsize=(12,6))\n",
    "plt.plot(x,f(x),\"b *\", label=\"Datos\")\n",
    "plt.plot(x,f(x),\"k-\",lw=2, label=\"Interpolacion Lineal\")\n",
    "plt.plot(X,np.sin(X),\"r-\", label=\"Funcion real\")\n",
    "plt.plot(3,f(3),\"y*\", label=\"Valor de Interpolacion para x=3 \\n f(3)=.{}\".format(f(3)),markersize=10)\n",
    "plt.plot(3,np.sin(3),\"c*\", label=\"Valor real para x=3 \\n sin(3)=.{}\".format(np.sin(3)),markersize=10)\n",
    "plt.title(\"Comportamiento de la Interpolacion Lineal \\n Funcion $Sin(x)$\")\n",
    "plt.grid()\n",
    "plt.legend(loc=\"best\")\n"
   ]
  },
  {
   "cell_type": "markdown",
   "metadata": {},
   "source": [
    "- - -"
   ]
  },
  {
   "cell_type": "markdown",
   "metadata": {},
   "source": [
    "## Example: \n",
    "Generate three points that do not lie upon a stright line, and try to make a manual interpolation with a polynomial of degree two."
   ]
  },
  {
   "cell_type": "code",
   "execution_count": 37,
   "metadata": {
    "collapsed": true
   },
   "outputs": [],
   "source": [
    "df=pd.DataFrame({ 'X':[-0.4,7,21.3],\n",
    "                  'Y':[-10.,4.,3.]\n",
    "                 }  \n",
    "                )"
   ]
  },
  {
   "cell_type": "code",
   "execution_count": 38,
   "metadata": {},
   "outputs": [
    {
     "data": {
      "text/html": [
       "<div>\n",
       "<table border=\"1\" class=\"dataframe\">\n",
       "  <thead>\n",
       "    <tr style=\"text-align: right;\">\n",
       "      <th></th>\n",
       "      <th>X</th>\n",
       "      <th>Y</th>\n",
       "    </tr>\n",
       "  </thead>\n",
       "  <tbody>\n",
       "    <tr>\n",
       "      <th>0</th>\n",
       "      <td>-0.4</td>\n",
       "      <td>-10.0</td>\n",
       "    </tr>\n",
       "    <tr>\n",
       "      <th>1</th>\n",
       "      <td>7.0</td>\n",
       "      <td>4.0</td>\n",
       "    </tr>\n",
       "    <tr>\n",
       "      <th>2</th>\n",
       "      <td>21.3</td>\n",
       "      <td>3.0</td>\n",
       "    </tr>\n",
       "  </tbody>\n",
       "</table>\n",
       "</div>"
      ],
      "text/plain": [
       "      X     Y\n",
       "0  -0.4 -10.0\n",
       "1   7.0   4.0\n",
       "2  21.3   3.0"
      ]
     },
     "execution_count": 38,
     "metadata": {},
     "output_type": "execute_result"
    }
   ],
   "source": [
    "df"
   ]
  },
  {
   "cell_type": "code",
   "execution_count": 39,
   "metadata": {},
   "outputs": [
    {
     "data": {
      "image/png": "[encoded data removed]",
      "text/plain": [
       "<matplotlib.figure.Figure at 0x7fd69306b320>"
      ]
     },
     "metadata": {},
     "output_type": "display_data"
    }
   ],
   "source": [
    "plt.plot(df.X,df.Y,'ro')\n",
    "plt.grid()"
   ]
  },
  {
   "cell_type": "markdown",
   "metadata": {},
   "source": [
    "### Polynomial object in `numpy`\n",
    "In `numpy` it is possible to define polynomials friom either its coefficients o its roots with `np.poly1d`"
   ]
  },
  {
   "cell_type": "markdown",
   "metadata": {},
   "source": [
    "Define a two degree polynomial from its roots:"
   ]
  },
  {
   "cell_type": "code",
   "execution_count": 40,
   "metadata": {
    "collapsed": true
   },
   "outputs": [],
   "source": [
    "P=np.poly1d([3,22],True)"
   ]
  },
  {
   "cell_type": "code",
   "execution_count": 41,
   "metadata": {},
   "outputs": [
    {
     "name": "stdout",
     "output_type": "stream",
     "text": [
      "   2\n",
      "1 x - 25 x + 66\n"
     ]
    }
   ],
   "source": [
    "print(P)"
   ]
  },
  {
   "cell_type": "code",
   "execution_count": 42,
   "metadata": {},
   "outputs": [
    {
     "data": {
      "text/plain": [
       "(-15, 20)"
      ]
     },
     "execution_count": 42,
     "metadata": {},
     "output_type": "execute_result"
    },
    {
     "data": {
      "image/png": "[encoded data removed]",
      "text/plain": [
       "<matplotlib.figure.Figure at 0x7fd693057438>"
      ]
     },
     "metadata": {},
     "output_type": "display_data"
    }
   ],
   "source": [
    "plt.plot(df.X,df.Y,'ro')\n",
    "x=np.linspace(-8,30)\n",
    "plt.plot(x,-P( x),'b-')\n",
    "plt.grid()\n",
    "plt.ylim(-15,20)"
   ]
  },
  {
   "cell_type": "markdown",
   "metadata": {},
   "source": [
    "HOMEWORK. Hacer la interpolación con la implementación en scipy buscando el grado óptimo del Polinomio"
   ]
  },
  {
   "cell_type": "markdown",
   "metadata": {},
   "source": [
    "### Interpolation with `numpy`\n",
    "`numpy` already include an interpolation function with polynomials called `np.polyfit`"
   ]
  },
  {
   "cell_type": "code",
   "execution_count": 43,
   "metadata": {
    "collapsed": true
   },
   "outputs": [],
   "source": [
    "np.polyfit?"
   ]
  },
  {
   "cell_type": "code",
   "execution_count": 44,
   "metadata": {
    "collapsed": true
   },
   "outputs": [],
   "source": [
    "coeffs=np.polyfit(df.X,df.Y,deg=2)"
   ]
  },
  {
   "cell_type": "code",
   "execution_count": 45,
   "metadata": {},
   "outputs": [
    {
     "name": "stdout",
     "output_type": "stream",
     "text": [
      "          2\n",
      "-0.09041 x + 2.489 x - 8.99\n"
     ]
    }
   ],
   "source": [
    "print(np.poly1d(coeffs))"
   ]
  },
  {
   "cell_type": "code",
   "execution_count": 46,
   "metadata": {},
   "outputs": [
    {
     "data": {
      "text/plain": [
       "(-5, 30)"
      ]
     },
     "execution_count": 46,
     "metadata": {},
     "output_type": "execute_result"
    },
    {
     "data": {
      "image/png": "[encoded data removed]",
      "text/plain": [
       "<matplotlib.figure.Figure at 0x7fd693334710>"
      ]
     },
     "metadata": {},
     "output_type": "display_data"
    }
   ],
   "source": [
    "P=np.poly1d(coeffs)\n",
    "plt.plot(df.X,df.Y,'ro')\n",
    "x=np.linspace(-8,30,100)\n",
    "plt.plot(x,P( x),'b-')\n",
    "plt.grid()\n",
    "plt.ylim(-20,20)\n",
    "plt.xlim(-5,30)"
   ]
  },
  {
   "cell_type": "code",
   "execution_count": 47,
   "metadata": {},
   "outputs": [
    {
     "data": {
      "text/plain": [
       "'x'"
      ]
     },
     "execution_count": 47,
     "metadata": {},
     "output_type": "execute_result"
    }
   ],
   "source": [
    "P.variable"
   ]
  },
  {
   "cell_type": "markdown",
   "metadata": {},
   "source": [
    "### Interpolation with Scipy"
   ]
  },
  {
   "cell_type": "code",
   "execution_count": 95,
   "metadata": {},
   "outputs": [
    {
     "data": {
      "text/html": [
       "<div>\n",
       "<table border=\"1\" class=\"dataframe\">\n",
       "  <thead>\n",
       "    <tr style=\"text-align: right;\">\n",
       "      <th></th>\n",
       "      <th>X</th>\n",
       "      <th>Y</th>\n",
       "    </tr>\n",
       "  </thead>\n",
       "  <tbody>\n",
       "    <tr>\n",
       "      <th>0</th>\n",
       "      <td>-0.4</td>\n",
       "      <td>-10.0</td>\n",
       "    </tr>\n",
       "    <tr>\n",
       "      <th>1</th>\n",
       "      <td>7.0</td>\n",
       "      <td>4.0</td>\n",
       "    </tr>\n",
       "    <tr>\n",
       "      <th>2</th>\n",
       "      <td>21.3</td>\n",
       "      <td>3.0</td>\n",
       "    </tr>\n",
       "  </tbody>\n",
       "</table>\n",
       "</div>"
      ],
      "text/plain": [
       "      X     Y\n",
       "0  -0.4 -10.0\n",
       "1   7.0   4.0\n",
       "2  21.3   3.0"
      ]
     },
     "execution_count": 95,
     "metadata": {},
     "output_type": "execute_result"
    }
   ],
   "source": [
    "x1=np.linspace(-8,30,100)\n",
    "df"
   ]
  },
  {
   "cell_type": "markdown",
   "metadata": {},
   "source": [
    "* __interpolate.InterpolatedUnivariateSpline__"
   ]
  },
  {
   "cell_type": "code",
   "execution_count": 96,
   "metadata": {},
   "outputs": [],
   "source": [
    "interpolate1=interpolate.InterpolatedUnivariateSpline(df.X,df.Y,k=2)\n",
    "y1=interpolate1(x1)"
   ]
  },
  {
   "cell_type": "markdown",
   "metadata": {},
   "source": [
    "*  __interpolate.BarycentricInterpolator__"
   ]
  },
  {
   "cell_type": "code",
   "execution_count": 105,
   "metadata": {
    "collapsed": true
   },
   "outputs": [],
   "source": [
    "interpolate2=interpolate.BarycentricInterpolator(df.X,df.Y)\n",
    "y2=interpolate2(x1)"
   ]
  },
  {
   "cell_type": "markdown",
   "metadata": {},
   "source": [
    "* __interpolate.KroghInterpolator__"
   ]
  },
  {
   "cell_type": "code",
   "execution_count": 108,
   "metadata": {
    "collapsed": true
   },
   "outputs": [],
   "source": [
    "interpolate3=interpolate.KroghInterpolator(df.X,df.Y)\n",
    "y3=interpolate3(x1)"
   ]
  },
  {
   "cell_type": "markdown",
   "metadata": {},
   "source": [
    "### Plotting the Interpolation from Scipy"
   ]
  },
  {
   "cell_type": "code",
   "execution_count": 154,
   "metadata": {},
   "outputs": [
    {
     "data": {
      "image/png": "[encoded data removed]",
      "text/plain": [
       "<matplotlib.figure.Figure at 0x7fd657c60dd8>"
      ]
     },
     "metadata": {},
     "output_type": "display_data"
    }
   ],
   "source": [
    "plt.figure(figsize=(7,10))\n",
    "\n",
    "plt.subplot(3,1,1)\n",
    "plt.plot(df.X,df.Y,\"o\", color=\"orange\",label=\"Data\")\n",
    "plt.plot(x1,y1,\"g-\",label=\"Interpolation\")\n",
    "plt.xlim(-5,30)\n",
    "plt.ylim(-20,20)\n",
    "plt.title(\"interpolate.InterpolatedUnivariateSpline \\n Scipy\")\n",
    "plt.legend(loc=\"best\")\n",
    "plt.grid()\n",
    "\n",
    "\n",
    "plt.subplot(3,1,2)\n",
    "plt.plot(df.X,df.Y,\"o\", color=\"orange\",label=\"Data\")\n",
    "plt.plot(x1,y2,\"b-\",label=\"Interpolation\")\n",
    "plt.xlim(-5,30)\n",
    "plt.ylim(-20,20)\n",
    "plt.title(\"interpolate.BarycentricInterpolator \\n Scipy\")\n",
    "plt.legend(loc=\"best\")\n",
    "plt.grid()\n",
    "\n",
    "\n",
    "plt.subplot(3,1,3)\n",
    "plt.plot(df.X,df.Y,\"o\", color=\"orange\",label=\"Data\")\n",
    "plt.plot(x1,y3,\"c-\", label=\"Interpolation\")\n",
    "plt.xlim(-5,30)\n",
    "plt.ylim(-20,20)\n",
    "plt.title(\"interpolate.KroghInterpolator \\n Scipy\")\n",
    "plt.legend(loc=\"best\")\n",
    "plt.grid()\n",
    "\n",
    "plt.tight_layout()\n"
   ]
  },
  {
   "cell_type": "markdown",
   "metadata": {},
   "source": [
    "## Example: Least action\n",
    "see [Least action](./least_action.ipynb)"
   ]
  },
  {
   "cell_type": "code",
   "execution_count": 54,
   "metadata": {
    "collapsed": true
   },
   "outputs": [],
   "source": [
    "np.poly1d?"
   ]
  },
  {
   "cell_type": "markdown",
   "metadata": {},
   "source": [
    "# Lagrange Polynomial"
   ]
  },
  {
   "cell_type": "markdown",
   "metadata": {},
   "source": [
    "Algebraic polynomials are very special functions as they have properties like differentiability (unlike linear interpolation) and continuity that make them useful for approximations like interpolation. A Polynomial is defined as a function given by the general expression:\n",
    "\n",
    "$$P_n(x) = a_nx^n + a_{n-1}x^{n-1} + \\cdots + a_1 x + a_0$$\n",
    "\n",
    "where $n$ is the polynomial degree.\n",
    "\n",
    "Another important property of polynomials is given by the [Weierstrass Approximation Theorem](http://en.wikipedia.org/wiki/Stone%E2%80%93Weierstrass_theorem), which states given a cotinuous function $f$ defined on a interval $[a,b]$, for all $\\epsilon >0$, there exits a polynomial $P(x)$ such that\n",
    "\n",
    "$$|f(x) - P(x)|<\\epsilon\\ \\ \\ \\ \\  \\mbox{for all }\\ x\\ \\mbox{ in }\\ [a,b].$$\n",
    "\n",
    "This theorem guarantees the existence of such a polynomial, however it is necessary to propose a scheme to build it."
   ]
  },
  {
   "cell_type": "code",
   "execution_count": 55,
   "metadata": {},
   "outputs": [
    {
     "data": {
      "text/html": [
       "<div>\n",
       "<table border=\"1\" class=\"dataframe\">\n",
       "  <thead>\n",
       "    <tr style=\"text-align: right;\">\n",
       "      <th></th>\n",
       "      <th>X</th>\n",
       "      <th>Y</th>\n",
       "    </tr>\n",
       "  </thead>\n",
       "  <tbody>\n",
       "    <tr>\n",
       "      <th>0</th>\n",
       "      <td>3.0</td>\n",
       "      <td>8.0</td>\n",
       "    </tr>\n",
       "    <tr>\n",
       "      <th>1</th>\n",
       "      <td>21.3</td>\n",
       "      <td>3.0</td>\n",
       "    </tr>\n",
       "  </tbody>\n",
       "</table>\n",
       "</div>"
      ],
      "text/plain": [
       "      X    Y\n",
       "0   3.0  8.0\n",
       "1  21.3  3.0"
      ]
     },
     "execution_count": 55,
     "metadata": {},
     "output_type": "execute_result"
    }
   ],
   "source": [
    "df=pd.DataFrame({ 'X':[3,21.3],\n",
    "                  'Y':[8.,3.]\n",
    "                 }  \n",
    "                )\n",
    "df"
   ]
  },
  {
   "cell_type": "code",
   "execution_count": 56,
   "metadata": {},
   "outputs": [
    {
     "data": {
      "image/png": "[encoded data removed]",
      "text/plain": [
       "<matplotlib.figure.Figure at 0x7f61e5cbe550>"
      ]
     },
     "metadata": {},
     "output_type": "display_data"
    }
   ],
   "source": [
    "plt.plot(df.X,df.Y,'ro')\n",
    "plt.grid()"
   ]
  },
  {
   "cell_type": "markdown",
   "metadata": {},
   "source": [
    "Polinomio de interp. de grado <font \"color=blue\">0</font>"
   ]
  },
  {
   "cell_type": "code",
   "execution_count": 57,
   "metadata": {},
   "outputs": [
    {
     "name": "stdout",
     "output_type": "stream",
     "text": [
      " \n",
      "5.5\n"
     ]
    },
    {
     "data": {
      "image/png": "[encoded data removed]",
      "text/plain": [
       "<matplotlib.figure.Figure at 0x7f61e5c8cfd0>"
      ]
     },
     "metadata": {},
     "output_type": "display_data"
    }
   ],
   "source": [
    "coeffs=np.polyfit(df.X,df.Y,deg=0)\n",
    "\n",
    "P=np.poly1d(coeffs)\n",
    "plt.plot(df.X,df.Y,'ro')\n",
    "x=np.linspace(-8,30)\n",
    "plt.plot(x,P( x),'b-')\n",
    "plt.grid()\n",
    "plt.ylim(0,12)\n",
    "\n",
    "print(np.poly1d(coeffs))"
   ]
  },
  {
   "cell_type": "markdown",
   "metadata": {},
   "source": [
    "Polinomio de interp. de grado <font \"color=blue\">1</font>"
   ]
  },
  {
   "cell_type": "code",
   "execution_count": 58,
   "metadata": {},
   "outputs": [
    {
     "name": "stdout",
     "output_type": "stream",
     "text": [
      " \n",
      "-0.2732 x + 8.82\n"
     ]
    },
    {
     "data": {
      "image/png": "[encoded data removed]",
      "text/plain": [
       "<matplotlib.figure.Figure at 0x7f61e5b0f1d0>"
      ]
     },
     "metadata": {},
     "output_type": "display_data"
    }
   ],
   "source": [
    "coeffs=np.polyfit(df.X,df.Y,deg=1)\n",
    "\n",
    "P=np.poly1d(coeffs)\n",
    "plt.plot(df.X,df.Y,'ro')\n",
    "x=np.linspace(-8,30)\n",
    "plt.plot(x,P( x),'b-')\n",
    "plt.grid()\n",
    "plt.ylim(0,12)\n",
    "\n",
    "print(np.poly1d(coeffs))"
   ]
  },
  {
   "cell_type": "markdown",
   "metadata": {},
   "source": [
    "Polinomio de interp. de grado <font \"color=blue\">2</font>"
   ]
  },
  {
   "cell_type": "code",
   "execution_count": 59,
   "metadata": {},
   "outputs": [
    {
     "name": "stderr",
     "output_type": "stream",
     "text": [
      "/usr/local/lib/python3.4/dist-packages/ipykernel_launcher.py:1: RankWarning: Polyfit may be poorly conditioned\n",
      "  \"\"\"Entry point for launching an IPython kernel.\n"
     ]
    },
    {
     "name": "stdout",
     "output_type": "stream",
     "text": [
      "           2\n",
      "-0.008617 x - 0.06383 x + 8.269\n"
     ]
    },
    {
     "data": {
      "image/png": "[encoded data removed]",
      "text/plain": [
       "<matplotlib.figure.Figure at 0x7f61e5a56550>"
      ]
     },
     "metadata": {},
     "output_type": "display_data"
    }
   ],
   "source": [
    "coeffs=np.polyfit(df.X,df.Y,deg=2)\n",
    "\n",
    "P=np.poly1d(coeffs)\n",
    "plt.plot(df.X,df.Y,'ro')\n",
    "x=np.linspace(-8,30)\n",
    "plt.plot(x,P( x),'b-')\n",
    "plt.grid()\n",
    "plt.ylim(0,12)\n",
    "\n",
    "print(np.poly1d(coeffs))"
   ]
  },
  {
   "cell_type": "code",
   "execution_count": 60,
   "metadata": {},
   "outputs": [
    {
     "data": {
      "text/html": [
       "<div>\n",
       "<table border=\"1\" class=\"dataframe\">\n",
       "  <thead>\n",
       "    <tr style=\"text-align: right;\">\n",
       "      <th></th>\n",
       "      <th>X</th>\n",
       "      <th>Y</th>\n",
       "    </tr>\n",
       "  </thead>\n",
       "  <tbody>\n",
       "    <tr>\n",
       "      <th>0</th>\n",
       "      <td>3.0</td>\n",
       "      <td>8.0</td>\n",
       "    </tr>\n",
       "    <tr>\n",
       "      <th>2</th>\n",
       "      <td>10.0</td>\n",
       "      <td>6.5</td>\n",
       "    </tr>\n",
       "    <tr>\n",
       "      <th>1</th>\n",
       "      <td>21.3</td>\n",
       "      <td>3.0</td>\n",
       "    </tr>\n",
       "  </tbody>\n",
       "</table>\n",
       "</div>"
      ],
      "text/plain": [
       "      X    Y\n",
       "0   3.0  8.0\n",
       "2  10.0  6.5\n",
       "1  21.3  3.0"
      ]
     },
     "execution_count": 60,
     "metadata": {},
     "output_type": "execute_result"
    }
   ],
   "source": [
    "df=df.append({'X':10,'Y':6.5},ignore_index=True).sort_values('X')\n",
    "df"
   ]
  },
  {
   "cell_type": "code",
   "execution_count": 61,
   "metadata": {},
   "outputs": [
    {
     "name": "stdout",
     "output_type": "stream",
     "text": [
      "           2\n",
      "-0.005216 x - 0.1465 x + 8.486\n"
     ]
    },
    {
     "data": {
      "image/png": "[encoded data removed]",
      "text/plain": [
       "<matplotlib.figure.Figure at 0x7f61e5c9f1d0>"
      ]
     },
     "metadata": {},
     "output_type": "display_data"
    }
   ],
   "source": [
    "coeffs=np.polyfit(df.X,df.Y,deg=2)\n",
    "\n",
    "P=np.poly1d(coeffs)\n",
    "plt.plot(df.X,df.Y,'ro')\n",
    "x=np.linspace(-8,30)\n",
    "plt.plot(x,P( x),'b-')\n",
    "plt.grid()\n",
    "plt.ylim(0,12)\n",
    "\n",
    "print(np.poly1d(coeffs))"
   ]
  },
  {
   "cell_type": "code",
   "execution_count": 62,
   "metadata": {},
   "outputs": [
    {
     "name": "stdout",
     "output_type": "stream",
     "text": [
      "           2\n",
      "-0.005216 x - 0.1465 x + 8.486\n"
     ]
    }
   ],
   "source": [
    "print(np.poly1d(coeffs))"
   ]
  },
  {
   "cell_type": "markdown",
   "metadata": {},
   "source": [
    "## Derivation"
   ]
  },
  {
   "cell_type": "markdown",
   "metadata": {},
   "source": [
    "Let's suppose a well-behaved yet unknown function $f$ and two points $(x_0,y_0)$ and $(x_1,y_1)$ for which $f(x_0) = y_0$ and $f(x_1) = y_1$. With this information we can build a first-degree polynomial that passes through both points by using the last equation in sec. [Linear Interpolation](interpolation.ipynb#Linear-Interpolation), we have\n",
    "\n",
    "$$P_1(x) = \\left[ \\frac{y_{1}-y_0}{x_{1}-x_0} \\right]x + \\left[ y_0 - \\frac{y_{1}-y_0}{x_{1}-x_0}x_0 \\right]$$\n",
    "\n",
    "We can readily rewrite this expression like:\n",
    "\n",
    "$$P_1(x) = L_0(x)f(x_0) + L_1(x)f(x_1)$$\n",
    "\n",
    "where we define the functions $L_0(x)$ and $L_1(x)$ as:\n",
    "\n",
    "$$L_0(x) = \\frac{x-x_1}{x_0-x_1} \\mbox{ and } L_1(x) = \\frac{x-x_0}{x_1-x_0}$$\n",
    "\n",
    "Note then that\n",
    "\n",
    "$$L_0(x_0) = 1,\\ \\ \\ L_0(x_1) = 0,\\ \\ \\ L_1(x_0) = 0,\\ \\ \\ L_1(x_1) = 1$$\n",
    "\n",
    "implying:\n",
    "\n",
    "$$P_1(x_0) = f(x_0) = y_0$$\n",
    "\n",
    "$$P_1(x_1) = f(x_1) = y_1$$\n",
    "\n",
    "Although all this procedure may seem unnecessary for a line, a generalization to larger datasets is direct."
   ]
  },
  {
   "cell_type": "markdown",
   "metadata": {},
   "source": [
    "## General case\n",
    "Let's assume again a well-behaved and unknown function $f$ sampled by using a set of $n+1$ data $(x_m,y_m)$ ($0\\leq m \\leq n$).\n",
    "We call the set of $[x_0,x_1,\\ldots,x_n]$ as the _node_ points of the _interpolation polynomial in the Lagrange form_, $P_n(x)$, where:\n",
    "$$f(x)\\approx P_n(x)\\,,$$\n",
    "\n",
    "$$P_n(x) = \\sum_{i=0}^n f(x_i)L_{n,i}(x) = \\sum_{i=0}^n y_iL_{n,i}(x)$$\n",
    "\n",
    "We need to find the _Lagrange polynomials_,  $L_{n,i}(x)$, such that \n",
    "$$L_{n,i}(x_i) = 1\\,,\\qquad\\text{and}\\,,\\qquad L_{n,i}(x_j) = 0\\quad\\text{for $i\\neq j$}$$ \n",
    "A function that satisfies this criterion is\n",
    "\n",
    "$$L_{n,i}(x) = \\prod_{\\begin{smallmatrix}m=0\\\\ m\\neq i\\end{smallmatrix}}^n \\frac{x-x_m}{x_i-x_m} =\\frac{(x-x_0)}{(x_i-x_0)}\\frac{(x-x_1)}{(x_i-x_1)}\\cdots \\frac{(x-x_{i-1})}{(x_i-x_{i-1})}\\underbrace{\\frac{}{}}_{m\\ne i}\n",
    "\\frac{(x-x_{i+1})}{(x_i-x_{i+1})} \\cdots \\frac{(x-x_{n-1})}{(x_i-x_{n-1})}\\frac{(x-x_n)}{(x_i-x_n)}  $$\n",
    "Please note that in the expansion the term $(x-x_i)$ does not appears in both the numerator and the denominator as stablished in the productory condition $m\\neq i$.\n",
    "\n",
    "Moreower\n",
    "$$L_{n,i}(x_i) = \\prod_{\\begin{smallmatrix}m=0\\\\ m\\neq i\\end{smallmatrix}}^n \\frac{x_i-x_m}{x_i-x_m} =1$$\n",
    "and, for $j\\ne i$\n",
    "$$L_{n,i}(x_j) = \\prod_{\\begin{smallmatrix}m=0\\\\ m\\neq i\\end{smallmatrix}}^n \\frac{x_j-x_m}{x_i-x_m} =\\frac{(x_j-x_0)}{(x_i-x_0)}\\cdots \\frac{(\\boldsymbol{x_j}-\\boldsymbol{x_j})}{(x_i-x_j)}\\cdots\\frac{(x_j-x_n)}{(x_i-x_n)}=0.$$\n",
    "\n",
    "\n",
    "Then, the polynomial of $n$th-degree $P_n(x)$ will satisfy the definitory property for a interpolating polynomial, i.e. $P_n(x_i) = y_i$ for any $i$ and it is called the _interpolation Polynomial in the Lagrange form_.\n",
    "\n",
    "Check [this implementation in sympy](./LagrangePoly.ipynb) wehre both the interpolating polynomial and the Lagrange polynomials are defined.\n",
    "\n",
    "**Further details at:**\n",
    "[Wikipedia](https://en.wikipedia.org/wiki/Lagrange_polynomial)"
   ]
  },
  {
   "cell_type": "markdown",
   "metadata": {},
   "source": [
    "### Example:\n",
    "Obtain the Lagrange Polynomials for a Interpolation polynomial of degree 1."
   ]
  },
  {
   "cell_type": "markdown",
   "metadata": {},
   "source": [
    "$i=0$, $n=1$\n",
    "$$ L_{2,0}=\\prod_{\\begin{smallmatrix}m=0\\\\ m\\neq 0\\end{smallmatrix}}^1 \\frac{x-x_m}{x_i-x_m}=\\prod_{\\begin{smallmatrix}m=1\\end{smallmatrix}}^1 \\frac{x-x_m}{x_0-x_m}=\\frac{x-x_1}{x_0-x_1}$$\n",
    "$i=i$, $n=1$\n",
    "$$ L_{2,1}=\\prod_{\\begin{smallmatrix}m=0\\\\ m\\neq 1\\end{smallmatrix}}^1 \\frac{x-x_m}{x_i-x_m}=\\prod_{\\begin{smallmatrix}m=0\\end{smallmatrix}}^0 \\frac{x-x_m}{x_1-x_m}=\\frac{x-x_0}{x_1-x_0}$$"
   ]
  },
  {
   "cell_type": "markdown",
   "metadata": {},
   "source": [
    "### Exercise-interpolation\n",
    "Obtain the Lagrange Polynomials for a Interpolation polynomial of degree 2."
   ]
  },
  {
   "cell_type": "markdown",
   "metadata": {},
   "source": [
    "### Implementation in Scipy"
   ]
  },
  {
   "cell_type": "code",
   "execution_count": 63,
   "metadata": {
    "collapsed": true
   },
   "outputs": [],
   "source": [
    "from scipy import interpolate"
   ]
  },
  {
   "cell_type": "code",
   "execution_count": 64,
   "metadata": {
    "collapsed": true
   },
   "outputs": [],
   "source": [
    "interpolate.lagrange?"
   ]
  },
  {
   "cell_type": "code",
   "execution_count": 65,
   "metadata": {},
   "outputs": [
    {
     "name": "stdout",
     "output_type": "stream",
     "text": [
      "           2\n",
      "-0.005216 x - 0.1465 x + 8.486\n"
     ]
    }
   ],
   "source": [
    "P=interpolate.lagrange(df.X,df.Y)\n",
    "print(P)"
   ]
  },
  {
   "cell_type": "code",
   "execution_count": 66,
   "metadata": {},
   "outputs": [
    {
     "data": {
      "text/plain": [
       "(0, 12)"
      ]
     },
     "execution_count": 66,
     "metadata": {},
     "output_type": "execute_result"
    },
    {
     "data": {
      "image/png": "[encoded data removed]",
      "text/plain": [
       "<matplotlib.figure.Figure at 0x7f61e59db240>"
      ]
     },
     "metadata": {},
     "output_type": "display_data"
    }
   ],
   "source": [
    "plt.plot(df.X,df.Y,'ro')\n",
    "x=np.linspace(-8,30)\n",
    "plt.plot(x,P( x),'b-')\n",
    "plt.grid()\n",
    "plt.ylim(0,12)"
   ]
  },
  {
   "cell_type": "markdown",
   "metadata": {},
   "source": [
    "### Implementation in `sympy`\n",
    "For details see [here](./LagrangePoly.ipynb)"
   ]
  },
  {
   "cell_type": "code",
   "execution_count": 67,
   "metadata": {},
   "outputs": [
    {
     "ename": "ImportError",
     "evalue": "No module named 'LagrangePolynomial'",
     "output_type": "error",
     "traceback": [
      "\u001b[0;31m---------------------------------------------------------------------------\u001b[0m",
      "\u001b[0;31mImportError\u001b[0m                               Traceback (most recent call last)",
      "\u001b[0;32m<ipython-input-67-f916f2a4724a>\u001b[0m in \u001b[0;36m<module>\u001b[0;34m()\u001b[0m\n\u001b[0;32m----> 1\u001b[0;31m \u001b[0;32mimport\u001b[0m \u001b[0mLagrangePolynomial\u001b[0m \u001b[0;32mas\u001b[0m \u001b[0mLP\u001b[0m\u001b[0;34m\u001b[0m\u001b[0m\n\u001b[0m\u001b[1;32m      2\u001b[0m \u001b[0mLP\u001b[0m\u001b[0;34m.\u001b[0m\u001b[0mlagrangePolynomial\u001b[0m\u001b[0;34m(\u001b[0m\u001b[0mdf\u001b[0m\u001b[0;34m.\u001b[0m\u001b[0mX\u001b[0m\u001b[0;34m,\u001b[0m\u001b[0mdf\u001b[0m\u001b[0;34m.\u001b[0m\u001b[0mY\u001b[0m\u001b[0;34m)\u001b[0m\u001b[0;34m\u001b[0m\u001b[0m\n",
      "\u001b[0;31mImportError\u001b[0m: No module named 'LagrangePolynomial'"
     ]
    }
   ],
   "source": [
    "import LagrangePolynomial as LP\n",
    "LP.lagrangePolynomial(df.X,df.Y)"
   ]
  },
  {
   "cell_type": "markdown",
   "metadata": {},
   "source": [
    "$$P_n(x) =  \\sum_{i=0}^n L_{n,i}(x) \\, y_i$$"
   ]
  },
  {
   "cell_type": "code",
   "execution_count": null,
   "metadata": {
    "collapsed": true
   },
   "outputs": [],
   "source": [
    "LP.polyL( df.X,0)*df.Y[0]+LP.polyL( df.X,1)*df.Y[1]+LP.polyL( df.X,2)*df.Y[2]"
   ]
  },
  {
   "cell_type": "markdown",
   "metadata": {},
   "source": [
    "## Steps LP"
   ]
  },
  {
   "cell_type": "markdown",
   "metadata": {},
   "source": [
    "Once defined the formal procedure for constructing a Lagrange Polynomial, we proceed to describe the explicit algorithm:\n",
    "\n",
    "1. Give the working dataset $(x_i, y_i)$ and stablish how many points you have.\n",
    "2. Define the functions $L_{n,i}(x)$ in a general way.\n",
    "3. Add each of those terms as shown in last expression.\n",
    "4. Evaluate your result wherever you want."
   ]
  },
  {
   "cell_type": "markdown",
   "metadata": {},
   "source": [
    "## <font color='red'>     **Activity** </font>"
   ]
  },
  {
   "cell_type": "markdown",
   "metadata": {},
   "source": [
    "<font color='red'>    \n",
    "    \n",
    "Along with the professor, write an implementation of the previous algorithm during classtime.\n",
    "</font>"
   ]
  },
  {
   "cell_type": "markdown",
   "metadata": {},
   "source": [
    "## Activity LP"
   ]
  },
  {
   "cell_type": "markdown",
   "metadata": {},
   "source": [
    "<div style=\"float: right;\" markdown=\"1\">\n",
    "    <img src=\"http://universe-review.ca/I05-28-NGC7331.jpg\">\n",
    "</div>\n",
    "\n",
    "One of the very first evidences of the existence of dark matter was the flat rotation curves of spiral galaxies. If we assume the total budget of mass of a galaxy is entirely made of luminous matter, the orbital circular velocity of stars around the galaxy plane should decay according to a keplerian potential. However this is not the case and the circular velocity barely decreases at larger radius, thus indicating the presence of a new non-visible matter component (dark matter). When it is necessary to determine how massive is the dark matter halo embedding a galaxy, an integration of the circular velocity is required. Nevertheless, due to the finite array of a CCD camera, only a discrete set of velocities can be measured and interpolation techniques are required.\n",
    "\n",
    "\n",
    "In this activity we will take a discrete dataset of the circular velocity as a function of the radius for the galaxy [NGC 7331](http://es.wikipedia.org/wiki/NGC_7331) and perform both, a linear and a Lagrange interpolation. You can download the dataset from this [link](https://raw.githubusercontent.com/sbustamante/ComputationalMethods/master/data/NGC7331.dat).\n"
   ]
  },
  {
   "cell_type": "markdown",
   "metadata": {},
   "source": [
    "[Video](https://upload.wikimedia.org/wikipedia/commons/transcoded/3/33/Galaxy_rotation_under_the_influence_of_dark_matter.ogv/Galaxy_rotation_under_the_influence_of_dark_matter.ogv.360p.webm)"
   ]
  },
  {
   "cell_type": "markdown",
   "metadata": {},
   "source": [
    "<font color='blue'>\n",
    "**TRIVIA**<br/> \n",
    "To which of two curves the real data approach better?\n",
    "</font>"
   ]
  },
  {
   "cell_type": "markdown",
   "metadata": {},
   "source": [
    "import os\n",
    "os.remove('trivia_results.txt')"
   ]
  },
  {
   "cell_type": "code",
   "execution_count": null,
   "metadata": {
    "collapsed": true
   },
   "outputs": [],
   "source": [
    "f=open('trivia_results.txt','a')\n",
    "AB=input(r'''A: to the curve \"velocity goes to zero when distance goes to infinity\"\n",
    "B: to the curve \"velocity goes to high constant when distance goes to infinity\"\n",
    "''')\n",
    "f.write( '{}\\n'.format(AB) )\n",
    "f.close()"
   ]
  },
  {
   "cell_type": "code",
   "execution_count": null,
   "metadata": {
    "collapsed": true
   },
   "outputs": [],
   "source": [
    "fr=open('trivia_results.txt')\n",
    "print( fr.read())\n",
    "fr.close()"
   ]
  },
  {
   "cell_type": "markdown",
   "metadata": {},
   "source": [
    "os.remove('trivia_results.txt')"
   ]
  },
  {
   "cell_type": "markdown",
   "metadata": {},
   "source": [
    "### Lets us check! "
   ]
  },
  {
   "cell_type": "code",
   "execution_count": null,
   "metadata": {
    "collapsed": true
   },
   "outputs": [],
   "source": [
    "#DATA URL: \n",
    "url='https://raw.githubusercontent.com/sbustamante/ComputationalMethods/master/data/NGC7331.dat'\n",
    "df=pd.read_table(url,sep='\\s+',header=None)\n",
    "df[0:5]"
   ]
  },
  {
   "cell_type": "markdown",
   "metadata": {},
   "source": [
    "To rename columns of a DataFrame\n",
    "```python\n",
    "df.rename_axis({'OLD':'NEW'}, axis = 'columns')\n",
    "```\n",
    "Further tips and tricks with Pandas: [here](https://github.com/restrepo/PythonTipsAndTricks)"
   ]
  },
  {
   "cell_type": "code",
   "execution_count": null,
   "metadata": {
    "collapsed": true
   },
   "outputs": [],
   "source": [
    "df=df.rename_axis({0:'r'}, axis = 'columns')\n",
    "df=df.rename_axis({1:'v'}, axis = 'columns')\n",
    "df[0:5]"
   ]
  },
  {
   "cell_type": "code",
   "execution_count": null,
   "metadata": {
    "collapsed": true
   },
   "outputs": [],
   "source": [
    "plt.plot(df.r,df.v,'r.')"
   ]
  },
  {
   "cell_type": "markdown",
   "metadata": {},
   "source": [
    "Build expected data"
   ]
  },
  {
   "cell_type": "code",
   "execution_count": null,
   "metadata": {
    "collapsed": true
   },
   "outputs": [],
   "source": [
    "dff=df[:60]\n",
    "#dff=dff.append(pd.DataFrame( {'r':[5,10],'v':[60,20]} )).reset_index(drop=True) # ,15,20,25,30 ,120,105,100,98\n",
    "#dff=dff.append(pd.DataFrame( {'r':[3.5,4,10],'v':[230,200,20]} )).reset_index(drop=True) # ,15,20,25,30 ,120,105,100,98\n",
    "dff=dff.append(pd.DataFrame( {'r':[3.5,4,9],'v':[230,200,22]} )).reset_index(drop=True) # ,15,20,25,30 ,120,105,100,98"
   ]
  },
  {
   "cell_type": "code",
   "execution_count": null,
   "metadata": {
    "collapsed": true
   },
   "outputs": [],
   "source": [
    "plt.plot(df['r'],df['v'],'r-')\n",
    "plt.plot(dff.r, dff.v,'b.')"
   ]
  },
  {
   "cell_type": "code",
   "execution_count": null,
   "metadata": {
    "collapsed": true
   },
   "outputs": [],
   "source": [
    "plt.plot(df['r'],1./df['v'],'r-')\n",
    "plt.plot(dff['r'],1./dff['v'],'b.')"
   ]
  },
  {
   "cell_type": "code",
   "execution_count": null,
   "metadata": {
    "collapsed": true
   },
   "outputs": [],
   "source": [
    "coeff=np.polyfit(dff['r'],1./dff['v'],2)\n",
    "P=poly1d(coeff,variable='r')\n",
    "print(P)"
   ]
  },
  {
   "cell_type": "code",
   "execution_count": null,
   "metadata": {
    "collapsed": true
   },
   "outputs": [],
   "source": [
    "r=np.logspace( np.log10(0.001),np.log10(30 ),100 )\n",
    "plt.plot(dff['r'],1./dff['v'],'b.')\n",
    "plt.plot(r,P(r),'k-')"
   ]
  },
  {
   "cell_type": "code",
   "execution_count": null,
   "metadata": {
    "collapsed": true
   },
   "outputs": [],
   "source": [
    "plt.plot(df['r'],df['v'],'r-')\n",
    "plt.plot(dff['r'],dff['v'],'b.')\n",
    "plt.plot(r,1/P(r),'k-')"
   ]
  },
  {
   "cell_type": "markdown",
   "metadata": {},
   "source": [
    "- - -"
   ]
  },
  {
   "cell_type": "markdown",
   "metadata": {},
   "source": [
    "# Appendix\n",
    "Thecnical details of interpolation functions: [interpolation_details.ipynb](./interpolation_details.ipynb)"
   ]
  }
 ],
 "metadata": {
  "kernelspec": {
   "display_name": "Python 3",
   "language": "python",
   "name": "python3"
  },
  "language_info": {
   "codemirror_mode": {
    "name": "ipython",
    "version": 3
   },
   "file_extension": ".py",
   "mimetype": "text/x-python",
   "name": "python",
   "nbconvert_exporter": "python",
   "pygments_lexer": "ipython3",
   "version": "3.4.2"
  },
  "toc": {
   "colors": {
    "hover_highlight": "#DAA520",
    "running_highlight": "#FF0000",
    "selected_highlight": "#FFD700"
   },
   "moveMenuLeft": true,
   "nav_menu": {
    "height": "341px",
    "width": "252px"
   },
   "navigate_menu": true,
   "number_sections": true,
   "sideBar": true,
   "threshold": 4,
   "toc_cell": false,
   "toc_section_display": "block",
   "toc_window_display": false
  }
 },
 "nbformat": 4,
 "nbformat_minor": 1
}
